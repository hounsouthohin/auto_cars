{
 "cells": [
  {
   "cell_type": "code",
   "execution_count": null,
   "id": "0b7fbaf8",
   "metadata": {
    "papermill": {
     "duration": 0.00161,
     "end_time": "2023-05-03T21:48:05.483819",
     "exception": false,
     "start_time": "2023-05-03T21:48:05.482209",
     "status": "completed"
    },
    "tags": []
   },
   "outputs": [],
   "source": []
  },
  {
   "cell_type": "code",
   "execution_count": null,
   "id": "4ab0ce7b",
   "metadata": {
    "papermill": {
     "duration": 0.00089,
     "end_time": "2023-05-03T21:48:05.487702",
     "exception": false,
     "start_time": "2023-05-03T21:48:05.486812",
     "status": "completed"
    },
    "tags": []
   },
   "outputs": [],
   "source": []
  }
 ],
 "metadata": {
  "kernelspec": {
   "display_name": "Python 3",
   "language": "python",
   "name": "python3"
  },
  "language_info": {
   "codemirror_mode": {
    "name": "ipython",
    "version": 3
   },
   "file_extension": ".py",
   "mimetype": "text/x-python",
   "name": "python",
   "nbconvert_exporter": "python",
   "pygments_lexer": "ipython3",
   "version": "3.10.10"
  },
  "papermill": {
   "default_parameters": {},
   "duration": 9.155676,
   "end_time": "2023-05-03T21:48:06.109273",
   "environment_variables": {},
   "exception": null,
   "input_path": "__notebook__.ipynb",
   "output_path": "__notebook__.ipynb",
   "parameters": {},
   "start_time": "2023-05-03T21:47:56.953597",
   "version": "2.4.0"
  }
 },
 "nbformat": 4,
 "nbformat_minor": 5
}
